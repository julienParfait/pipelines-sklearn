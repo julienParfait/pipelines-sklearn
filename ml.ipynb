{
 "cells": [
  {
   "cell_type": "code",
   "execution_count": 1,
   "metadata": {},
   "outputs": [
    {
     "name": "stdout",
     "output_type": "stream",
     "text": [
      "Collecting shiny\n",
      "  Downloading shiny-1.2.1-py3-none-any.whl.metadata (8.3 kB)\n",
      "Requirement already satisfied: typing-extensions>=4.10.0 in c:\\users\\julien\\appdata\\local\\programs\\python\\python312\\lib\\site-packages (from shiny) (4.12.2)\n",
      "Collecting starlette (from shiny)\n",
      "  Downloading starlette-0.41.2-py3-none-any.whl.metadata (6.0 kB)\n",
      "Collecting websockets>=13.0 (from shiny)\n",
      "  Downloading websockets-14.1-cp312-cp312-win_amd64.whl.metadata (6.9 kB)\n",
      "Collecting python-multipart (from shiny)\n",
      "  Downloading python_multipart-0.0.17-py3-none-any.whl.metadata (1.8 kB)\n",
      "Collecting htmltools>=0.6.0 (from shiny)\n",
      "  Downloading htmltools-0.6.0-py3-none-any.whl.metadata (3.3 kB)\n",
      "Requirement already satisfied: markdown-it-py>=1.1.0 in c:\\users\\julien\\appdata\\local\\programs\\python\\python312\\lib\\site-packages (from shiny) (3.0.0)\n",
      "Collecting mdit-py-plugins>=0.3.0 (from shiny)\n",
      "  Downloading mdit_py_plugins-0.4.2-py3-none-any.whl.metadata (2.8 kB)\n",
      "Collecting linkify-it-py>=1.0 (from shiny)\n",
      "  Downloading linkify_it_py-2.0.3-py3-none-any.whl.metadata (8.5 kB)\n",
      "Requirement already satisfied: appdirs>=1.4.4 in c:\\users\\julien\\appdata\\local\\programs\\python\\python312\\lib\\site-packages (from shiny) (1.4.4)\n",
      "Collecting asgiref>=3.5.2 (from shiny)\n",
      "  Downloading asgiref-3.8.1-py3-none-any.whl.metadata (9.3 kB)\n",
      "Requirement already satisfied: packaging>=20.9 in c:\\users\\julien\\appdata\\roaming\\python\\python312\\site-packages (from shiny) (24.0)\n",
      "Collecting narwhals>=1.10.0 (from shiny)\n",
      "  Downloading narwhals-1.13.5-py3-none-any.whl.metadata (7.4 kB)\n",
      "Collecting orjson>=3.10.7 (from shiny)\n",
      "  Downloading orjson-3.10.11-cp312-none-win_amd64.whl.metadata (52 kB)\n",
      "Collecting uvicorn>=0.16.0 (from shiny)\n",
      "  Downloading uvicorn-0.32.0-py3-none-any.whl.metadata (6.6 kB)\n",
      "Requirement already satisfied: click>=8.1.4 in c:\\users\\julien\\appdata\\local\\programs\\python\\python312\\lib\\site-packages (from shiny) (8.1.7)\n",
      "Collecting watchfiles>=0.18.0 (from shiny)\n",
      "  Downloading watchfiles-0.24.0-cp312-none-win_amd64.whl.metadata (5.0 kB)\n",
      "Collecting questionary>=2.0.0 (from shiny)\n",
      "  Downloading questionary-2.0.1-py3-none-any.whl.metadata (5.4 kB)\n",
      "Requirement already satisfied: prompt-toolkit in c:\\users\\julien\\appdata\\roaming\\python\\python312\\site-packages (from shiny) (3.0.43)\n",
      "Requirement already satisfied: setuptools in c:\\users\\julien\\appdata\\local\\programs\\python\\python312\\lib\\site-packages (from shiny) (75.2.0)\n",
      "Requirement already satisfied: colorama in c:\\users\\julien\\appdata\\roaming\\python\\python312\\site-packages (from click>=8.1.4->shiny) (0.4.6)\n",
      "Collecting uc-micro-py (from linkify-it-py>=1.0->shiny)\n",
      "  Downloading uc_micro_py-1.0.3-py3-none-any.whl.metadata (2.0 kB)\n",
      "Requirement already satisfied: mdurl~=0.1 in c:\\users\\julien\\appdata\\local\\programs\\python\\python312\\lib\\site-packages (from markdown-it-py>=1.1.0->shiny) (0.1.2)\n",
      "Collecting prompt-toolkit (from shiny)\n",
      "  Downloading prompt_toolkit-3.0.36-py3-none-any.whl.metadata (7.0 kB)\n",
      "Requirement already satisfied: wcwidth in c:\\users\\julien\\appdata\\roaming\\python\\python312\\site-packages (from prompt-toolkit->shiny) (0.2.13)\n",
      "Requirement already satisfied: h11>=0.8 in c:\\users\\julien\\appdata\\local\\programs\\python\\python312\\lib\\site-packages (from uvicorn>=0.16.0->shiny) (0.14.0)\n",
      "Requirement already satisfied: anyio>=3.0.0 in c:\\users\\julien\\appdata\\local\\programs\\python\\python312\\lib\\site-packages (from watchfiles>=0.18.0->shiny) (4.6.2.post1)\n",
      "Requirement already satisfied: idna>=2.8 in c:\\users\\julien\\appdata\\local\\programs\\python\\python312\\lib\\site-packages (from anyio>=3.0.0->watchfiles>=0.18.0->shiny) (3.10)\n",
      "Requirement already satisfied: sniffio>=1.1 in c:\\users\\julien\\appdata\\local\\programs\\python\\python312\\lib\\site-packages (from anyio>=3.0.0->watchfiles>=0.18.0->shiny) (1.3.1)\n",
      "Downloading shiny-1.2.1-py3-none-any.whl (4.3 MB)\n",
      "   ---------------------------------------- 0.0/4.3 MB ? eta -:--:--\n",
      "   -- ------------------------------------- 0.3/4.3 MB ? eta -:--:--\n",
      "   --------- ------------------------------ 1.0/4.3 MB 5.0 MB/s eta 0:00:01\n",
      "   ----------------- ---------------------- 1.8/4.3 MB 3.1 MB/s eta 0:00:01\n",
      "   ------------------- -------------------- 2.1/4.3 MB 2.8 MB/s eta 0:00:01\n",
      "   -------------------------- ------------- 2.9/4.3 MB 3.1 MB/s eta 0:00:01\n",
      "   ---------------------------------- ----- 3.7/4.3 MB 2.8 MB/s eta 0:00:01\n",
      "   ------------------------------------ --- 3.9/4.3 MB 2.8 MB/s eta 0:00:01\n",
      "   ---------------------------------------- 4.3/4.3 MB 2.5 MB/s eta 0:00:00\n",
      "Downloading asgiref-3.8.1-py3-none-any.whl (23 kB)\n",
      "Downloading htmltools-0.6.0-py3-none-any.whl (84 kB)\n",
      "Downloading linkify_it_py-2.0.3-py3-none-any.whl (19 kB)\n",
      "Downloading mdit_py_plugins-0.4.2-py3-none-any.whl (55 kB)\n",
      "Downloading narwhals-1.13.5-py3-none-any.whl (208 kB)\n",
      "Downloading orjson-3.10.11-cp312-none-win_amd64.whl (136 kB)\n",
      "Downloading python_multipart-0.0.17-py3-none-any.whl (24 kB)\n",
      "Downloading questionary-2.0.1-py3-none-any.whl (34 kB)\n",
      "Downloading prompt_toolkit-3.0.36-py3-none-any.whl (386 kB)\n",
      "Downloading uvicorn-0.32.0-py3-none-any.whl (63 kB)\n",
      "Downloading watchfiles-0.24.0-cp312-none-win_amd64.whl (277 kB)\n",
      "Downloading websockets-14.1-cp312-cp312-win_amd64.whl (163 kB)\n",
      "Downloading starlette-0.41.2-py3-none-any.whl (73 kB)\n",
      "Downloading uc_micro_py-1.0.3-py3-none-any.whl (6.2 kB)\n",
      "Installing collected packages: websockets, uc-micro-py, python-multipart, prompt-toolkit, orjson, narwhals, htmltools, asgiref, watchfiles, uvicorn, starlette, questionary, mdit-py-plugins, linkify-it-py, shiny\n",
      "  Attempting uninstall: prompt-toolkit\n",
      "    Found existing installation: prompt-toolkit 3.0.43\n",
      "    Uninstalling prompt-toolkit-3.0.43:\n",
      "      Successfully uninstalled prompt-toolkit-3.0.43\n",
      "Successfully installed asgiref-3.8.1 htmltools-0.6.0 linkify-it-py-2.0.3 mdit-py-plugins-0.4.2 narwhals-1.13.5 orjson-3.10.11 prompt-toolkit-3.0.36 python-multipart-0.0.17 questionary-2.0.1 shiny-1.2.1 starlette-0.41.2 uc-micro-py-1.0.3 uvicorn-0.32.0 watchfiles-0.24.0 websockets-14.1\n",
      "Note: you may need to restart the kernel to use updated packages.\n"
     ]
    },
    {
     "name": "stderr",
     "output_type": "stream",
     "text": [
      "ERROR: pip's dependency resolver does not currently take into account all the packages that are installed. This behaviour is the source of the following dependency conflicts.\n",
      "ipython 8.24.0 requires prompt-toolkit<3.1.0,>=3.0.41, but you have prompt-toolkit 3.0.36 which is incompatible.\n"
     ]
    }
   ],
   "source": [
    "pip install shiny "
   ]
  },
  {
   "cell_type": "code",
   "execution_count": null,
   "metadata": {},
   "outputs": [
    {
     "ename": "AttributeError",
     "evalue": "module 'shiny.ui' has no attribute 'panel_sidebar'",
     "output_type": "error",
     "traceback": [
      "\u001b[1;31m---------------------------------------------------------------------------\u001b[0m",
      "\u001b[1;31mAttributeError\u001b[0m                            Traceback (most recent call last)",
      "Cell \u001b[1;32mIn[7], line 12\u001b[0m\n\u001b[0;32m      8\u001b[0m \u001b[38;5;28;01mimport\u001b[39;00m \u001b[38;5;21;01mio\u001b[39;00m\n\u001b[0;32m     10\u001b[0m \u001b[38;5;66;03m# Interface utilisateur\u001b[39;00m\n\u001b[0;32m     11\u001b[0m app_ui \u001b[38;5;241m=\u001b[39m ui\u001b[38;5;241m.\u001b[39mpage_fluid(\n\u001b[1;32m---> 12\u001b[0m     \u001b[43mui\u001b[49m\u001b[38;5;241;43m.\u001b[39;49m\u001b[43mpanel_sidebar\u001b[49m(\n\u001b[0;32m     13\u001b[0m         ui\u001b[38;5;241m.\u001b[39minput_file(\u001b[38;5;124m\"\u001b[39m\u001b[38;5;124mfile\u001b[39m\u001b[38;5;124m\"\u001b[39m, \u001b[38;5;124m\"\u001b[39m\u001b[38;5;124mCharger un fichier CSV\u001b[39m\u001b[38;5;124m\"\u001b[39m, accept\u001b[38;5;241m=\u001b[39m[\u001b[38;5;124m\"\u001b[39m\u001b[38;5;124m.csv\u001b[39m\u001b[38;5;124m\"\u001b[39m]),\n\u001b[0;32m     14\u001b[0m         ui\u001b[38;5;241m.\u001b[39minput_select(\u001b[38;5;124m\"\u001b[39m\u001b[38;5;124mtarget\u001b[39m\u001b[38;5;124m\"\u001b[39m, \u001b[38;5;124m\"\u001b[39m\u001b[38;5;124mVariable cible (quantitative):\u001b[39m\u001b[38;5;124m\"\u001b[39m, choices\u001b[38;5;241m=\u001b[39m[]),\n\u001b[0;32m     15\u001b[0m         ui\u001b[38;5;241m.\u001b[39minput_selectize(\u001b[38;5;124m\"\u001b[39m\u001b[38;5;124mfeatures\u001b[39m\u001b[38;5;124m\"\u001b[39m, \u001b[38;5;124m\"\u001b[39m\u001b[38;5;124mVariables explicatives:\u001b[39m\u001b[38;5;124m\"\u001b[39m, choices\u001b[38;5;241m=\u001b[39m[], multiple\u001b[38;5;241m=\u001b[39m\u001b[38;5;28;01mTrue\u001b[39;00m),\n\u001b[0;32m     16\u001b[0m         ui\u001b[38;5;241m.\u001b[39minput_slider(\u001b[38;5;124m\"\u001b[39m\u001b[38;5;124msplit\u001b[39m\u001b[38;5;124m\"\u001b[39m, \u001b[38;5;124m\"\u001b[39m\u001b[38;5;124mPourcentage des données pour l\u001b[39m\u001b[38;5;124m'\u001b[39m\u001b[38;5;124mentraînement\u001b[39m\u001b[38;5;124m\"\u001b[39m, \u001b[38;5;241m50\u001b[39m, \u001b[38;5;241m90\u001b[39m, \u001b[38;5;241m70\u001b[39m),\n\u001b[0;32m     17\u001b[0m         ui\u001b[38;5;241m.\u001b[39minput_select(\n\u001b[0;32m     18\u001b[0m             \u001b[38;5;124m\"\u001b[39m\u001b[38;5;124mmodel\u001b[39m\u001b[38;5;124m\"\u001b[39m,\n\u001b[0;32m     19\u001b[0m             \u001b[38;5;124m\"\u001b[39m\u001b[38;5;124mModèle de régression:\u001b[39m\u001b[38;5;124m\"\u001b[39m,\n\u001b[0;32m     20\u001b[0m             choices\u001b[38;5;241m=\u001b[39m[\u001b[38;5;124m\"\u001b[39m\u001b[38;5;124mRégression linéaire\u001b[39m\u001b[38;5;124m\"\u001b[39m, \u001b[38;5;124m\"\u001b[39m\u001b[38;5;124mRidge\u001b[39m\u001b[38;5;124m\"\u001b[39m, \u001b[38;5;124m\"\u001b[39m\u001b[38;5;124mLasso\u001b[39m\u001b[38;5;124m\"\u001b[39m, \u001b[38;5;124m\"\u001b[39m\u001b[38;5;124mForêt aléatoire\u001b[39m\u001b[38;5;124m\"\u001b[39m],\n\u001b[0;32m     21\u001b[0m         ),\n\u001b[0;32m     22\u001b[0m         ui\u001b[38;5;241m.\u001b[39maction_button(\u001b[38;5;124m\"\u001b[39m\u001b[38;5;124mtrain\u001b[39m\u001b[38;5;124m\"\u001b[39m, \u001b[38;5;124m\"\u001b[39m\u001b[38;5;124mEntraîner le modèle\u001b[39m\u001b[38;5;124m\"\u001b[39m),\n\u001b[0;32m     23\u001b[0m     ),\n\u001b[0;32m     24\u001b[0m     ui\u001b[38;5;241m.\u001b[39mpanel_main(\n\u001b[0;32m     25\u001b[0m         ui\u001b[38;5;241m.\u001b[39moutput_text_verbatim(\u001b[38;5;124m\"\u001b[39m\u001b[38;5;124mmodel_summary\u001b[39m\u001b[38;5;124m\"\u001b[39m),\n\u001b[0;32m     26\u001b[0m         ui\u001b[38;5;241m.\u001b[39moutput_plot(\u001b[38;5;124m\"\u001b[39m\u001b[38;5;124mprediction_plot\u001b[39m\u001b[38;5;124m\"\u001b[39m),\n\u001b[0;32m     27\u001b[0m     ),\n\u001b[0;32m     28\u001b[0m )\n\u001b[0;32m     30\u001b[0m \u001b[38;5;66;03m# Serveur de l'application\u001b[39;00m\n\u001b[0;32m     31\u001b[0m \u001b[38;5;28;01mdef\u001b[39;00m \u001b[38;5;21mserver\u001b[39m(\u001b[38;5;28minput\u001b[39m, output, session):\n",
      "\u001b[1;31mAttributeError\u001b[0m: module 'shiny.ui' has no attribute 'panel_sidebar'"
     ]
    }
   ],
   "source": []
  }
 ],
 "metadata": {
  "kernelspec": {
   "display_name": "Python 3",
   "language": "python",
   "name": "python3"
  },
  "language_info": {
   "codemirror_mode": {
    "name": "ipython",
    "version": 3
   },
   "file_extension": ".py",
   "mimetype": "text/x-python",
   "name": "python",
   "nbconvert_exporter": "python",
   "pygments_lexer": "ipython3",
   "version": "3.12.6"
  }
 },
 "nbformat": 4,
 "nbformat_minor": 2
}
