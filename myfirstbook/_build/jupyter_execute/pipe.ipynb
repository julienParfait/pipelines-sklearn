{
 "cells": [
  {
   "cell_type": "markdown",
   "metadata": {},
   "source": [
    "# Création de Pipelines avec Sklearn "
   ]
  },
  {
   "cell_type": "markdown",
   "metadata": {},
   "source": [
    "\n",
    "<div style=\"text-align: center;\">\n",
    "    <img src=\"https://cdn.pixabay.com/photo/2022/12/09/03/51/big-data-7644530_1280.jpg\" alt=\"Mon Image\" style=\"width: 1000px; height:400px; auto;\"/>\n",
    "</div>"
   ]
  },
  {
   "cell_type": "markdown",
   "metadata": {},
   "source": [
    "Un pipeline en machine learning est un outil structurant permettant d'automatiser et de simplifier le flux de traitement des données et de modélisation. Il consiste en une séquence ordonnée d'étapes, où chaque étape correspond à une transformation spécifique (prétraitement, sélection de caractéristiques, etc.) ou à un modèle d'apprentissage. L'objectif principal d'un pipeline est de garantir un traitement cohérent des données, depuis leur préparation jusqu'à l'entraînement et la prédiction, en minimisant le risque d'erreurs manuelles. En encapsulant toutes les étapes dans une seule entité, un pipeline favorise la réplicabilité, améliore la lisibilité du code et facilite la validation croisée sur des processus complets. Il est donc crucial en machine learning pour développer des modèles robustes et maintenables, surtout dans des environnements où la préparation des données et l'entraînement des modèles nécessitent une grande cohérence et rigueur.\n",
    "\n",
    "Dans ce notebook, je présente tour à tour les étapes de construction d'un pipeline simple de traitement transofrmation, traitement de données.\n",
    "\n",
    "### Importation des librairies\n",
    "\n",
    "---"
   ]
  },
  {
   "cell_type": "code",
   "execution_count": 1,
   "metadata": {},
   "outputs": [],
   "source": [
    "import numpy as np\n",
    "import pandas as pd \n",
    "import matplotlib.pyplot as plt\n",
    "from sklearn.pipeline import make_pipeline\n",
    "from sklearn.preprocessing import StandardScaler, MinMaxScaler, RobustScaler, MaxAbsScaler\n",
    "from sklearn.linear_model import SGDClassifier\n",
    "import seaborn as sns \n",
    "from sklearn.impute import KNNImputer,SimpleImputer\n",
    "from sklearn.preprocessing import (LabelEncoder, OrdinalEncoder, OneHotEncoder,\n",
    "                                    LabelBinarizer, MultiLabelBinarizer)\n",
    "from sklearn.compose import make_column_transformer\n",
    "from sklearn.compose import make_column_selector"
   ]
  },
  {
   "cell_type": "markdown",
   "metadata": {},
   "source": [
    "### Separation des types de variables "
   ]
  },
  {
   "cell_type": "code",
   "execution_count": 2,
   "metadata": {},
   "outputs": [],
   "source": [
    "numeric = make_column_selector(dtype_include=np.number)\n",
    "\n",
    "categorical =  make_column_selector(dtype_exclude=np.number)\n"
   ]
  },
  {
   "cell_type": "markdown",
   "metadata": {},
   "source": [
    "### Definition des transformer pour chaque type de variable "
   ]
  },
  {
   "cell_type": "code",
   "execution_count": 3,
   "metadata": {},
   "outputs": [],
   "source": [
    "\n",
    "pipe_numeric = make_pipeline(SimpleImputer(),\n",
    "                             StandardScaler())\n",
    "\n",
    "pipeline_cat = make_pipeline(SimpleImputer(strategy='most_frequent'),\n",
    "                             OneHotEncoder())"
   ]
  },
  {
   "cell_type": "markdown",
   "metadata": {},
   "source": [
    "### Application des transformers sur chaque type de variable "
   ]
  },
  {
   "cell_type": "code",
   "execution_count": 4,
   "metadata": {},
   "outputs": [],
   "source": [
    "transformer_app =  make_column_transformer(\n",
    "    (pipe_numeric, numeric),\n",
    "    (pipeline_cat, categorical)\n",
    ")"
   ]
  },
  {
   "cell_type": "markdown",
   "metadata": {},
   "source": [
    "### Creation du pipeline "
   ]
  },
  {
   "cell_type": "code",
   "execution_count": 5,
   "metadata": {},
   "outputs": [],
   "source": [
    "traitement = make_pipeline(\n",
    "    transformer_app\n",
    ")"
   ]
  },
  {
   "cell_type": "markdown",
   "metadata": {},
   "source": [
    "### Application a un jeu de données "
   ]
  },
  {
   "cell_type": "markdown",
   "metadata": {},
   "source": [
    "Vous pouvez utiliser n'importe quel jeu de données."
   ]
  },
  {
   "cell_type": "code",
   "execution_count": 6,
   "metadata": {},
   "outputs": [
    {
     "ename": "FileNotFoundError",
     "evalue": "[Errno 2] No such file or directory: 'tips.csv'",
     "output_type": "error",
     "traceback": [
      "\u001b[1;31m---------------------------------------------------------------------------\u001b[0m",
      "\u001b[1;31mFileNotFoundError\u001b[0m                         Traceback (most recent call last)",
      "Cell \u001b[1;32mIn[6], line 1\u001b[0m\n\u001b[1;32m----> 1\u001b[0m df \u001b[38;5;241m=\u001b[39m \u001b[43mpd\u001b[49m\u001b[38;5;241;43m.\u001b[39;49m\u001b[43mread_csv\u001b[49m\u001b[43m(\u001b[49m\u001b[38;5;124;43m'\u001b[39;49m\u001b[38;5;124;43mtips.csv\u001b[39;49m\u001b[38;5;124;43m'\u001b[39;49m\u001b[43m)\u001b[49m\n\u001b[0;32m      3\u001b[0m y \u001b[38;5;241m=\u001b[39m df[\u001b[38;5;124m'\u001b[39m\u001b[38;5;124mtotal_bill\u001b[39m\u001b[38;5;124m'\u001b[39m]\n\u001b[0;32m      5\u001b[0m X \u001b[38;5;241m=\u001b[39m df\u001b[38;5;241m.\u001b[39mdrop(\u001b[38;5;124m'\u001b[39m\u001b[38;5;124mtotal_bill\u001b[39m\u001b[38;5;124m'\u001b[39m, axis\u001b[38;5;241m=\u001b[39m\u001b[38;5;241m1\u001b[39m)\n",
      "File \u001b[1;32m~\\Desktop\\ETL\\.venv\\Lib\\site-packages\\pandas\\io\\parsers\\readers.py:1026\u001b[0m, in \u001b[0;36mread_csv\u001b[1;34m(filepath_or_buffer, sep, delimiter, header, names, index_col, usecols, dtype, engine, converters, true_values, false_values, skipinitialspace, skiprows, skipfooter, nrows, na_values, keep_default_na, na_filter, verbose, skip_blank_lines, parse_dates, infer_datetime_format, keep_date_col, date_parser, date_format, dayfirst, cache_dates, iterator, chunksize, compression, thousands, decimal, lineterminator, quotechar, quoting, doublequote, escapechar, comment, encoding, encoding_errors, dialect, on_bad_lines, delim_whitespace, low_memory, memory_map, float_precision, storage_options, dtype_backend)\u001b[0m\n\u001b[0;32m   1013\u001b[0m kwds_defaults \u001b[38;5;241m=\u001b[39m _refine_defaults_read(\n\u001b[0;32m   1014\u001b[0m     dialect,\n\u001b[0;32m   1015\u001b[0m     delimiter,\n\u001b[1;32m   (...)\u001b[0m\n\u001b[0;32m   1022\u001b[0m     dtype_backend\u001b[38;5;241m=\u001b[39mdtype_backend,\n\u001b[0;32m   1023\u001b[0m )\n\u001b[0;32m   1024\u001b[0m kwds\u001b[38;5;241m.\u001b[39mupdate(kwds_defaults)\n\u001b[1;32m-> 1026\u001b[0m \u001b[38;5;28;01mreturn\u001b[39;00m \u001b[43m_read\u001b[49m\u001b[43m(\u001b[49m\u001b[43mfilepath_or_buffer\u001b[49m\u001b[43m,\u001b[49m\u001b[43m \u001b[49m\u001b[43mkwds\u001b[49m\u001b[43m)\u001b[49m\n",
      "File \u001b[1;32m~\\Desktop\\ETL\\.venv\\Lib\\site-packages\\pandas\\io\\parsers\\readers.py:620\u001b[0m, in \u001b[0;36m_read\u001b[1;34m(filepath_or_buffer, kwds)\u001b[0m\n\u001b[0;32m    617\u001b[0m _validate_names(kwds\u001b[38;5;241m.\u001b[39mget(\u001b[38;5;124m\"\u001b[39m\u001b[38;5;124mnames\u001b[39m\u001b[38;5;124m\"\u001b[39m, \u001b[38;5;28;01mNone\u001b[39;00m))\n\u001b[0;32m    619\u001b[0m \u001b[38;5;66;03m# Create the parser.\u001b[39;00m\n\u001b[1;32m--> 620\u001b[0m parser \u001b[38;5;241m=\u001b[39m \u001b[43mTextFileReader\u001b[49m\u001b[43m(\u001b[49m\u001b[43mfilepath_or_buffer\u001b[49m\u001b[43m,\u001b[49m\u001b[43m \u001b[49m\u001b[38;5;241;43m*\u001b[39;49m\u001b[38;5;241;43m*\u001b[39;49m\u001b[43mkwds\u001b[49m\u001b[43m)\u001b[49m\n\u001b[0;32m    622\u001b[0m \u001b[38;5;28;01mif\u001b[39;00m chunksize \u001b[38;5;129;01mor\u001b[39;00m iterator:\n\u001b[0;32m    623\u001b[0m     \u001b[38;5;28;01mreturn\u001b[39;00m parser\n",
      "File \u001b[1;32m~\\Desktop\\ETL\\.venv\\Lib\\site-packages\\pandas\\io\\parsers\\readers.py:1620\u001b[0m, in \u001b[0;36mTextFileReader.__init__\u001b[1;34m(self, f, engine, **kwds)\u001b[0m\n\u001b[0;32m   1617\u001b[0m     \u001b[38;5;28mself\u001b[39m\u001b[38;5;241m.\u001b[39moptions[\u001b[38;5;124m\"\u001b[39m\u001b[38;5;124mhas_index_names\u001b[39m\u001b[38;5;124m\"\u001b[39m] \u001b[38;5;241m=\u001b[39m kwds[\u001b[38;5;124m\"\u001b[39m\u001b[38;5;124mhas_index_names\u001b[39m\u001b[38;5;124m\"\u001b[39m]\n\u001b[0;32m   1619\u001b[0m \u001b[38;5;28mself\u001b[39m\u001b[38;5;241m.\u001b[39mhandles: IOHandles \u001b[38;5;241m|\u001b[39m \u001b[38;5;28;01mNone\u001b[39;00m \u001b[38;5;241m=\u001b[39m \u001b[38;5;28;01mNone\u001b[39;00m\n\u001b[1;32m-> 1620\u001b[0m \u001b[38;5;28mself\u001b[39m\u001b[38;5;241m.\u001b[39m_engine \u001b[38;5;241m=\u001b[39m \u001b[38;5;28;43mself\u001b[39;49m\u001b[38;5;241;43m.\u001b[39;49m\u001b[43m_make_engine\u001b[49m\u001b[43m(\u001b[49m\u001b[43mf\u001b[49m\u001b[43m,\u001b[49m\u001b[43m \u001b[49m\u001b[38;5;28;43mself\u001b[39;49m\u001b[38;5;241;43m.\u001b[39;49m\u001b[43mengine\u001b[49m\u001b[43m)\u001b[49m\n",
      "File \u001b[1;32m~\\Desktop\\ETL\\.venv\\Lib\\site-packages\\pandas\\io\\parsers\\readers.py:1880\u001b[0m, in \u001b[0;36mTextFileReader._make_engine\u001b[1;34m(self, f, engine)\u001b[0m\n\u001b[0;32m   1878\u001b[0m     \u001b[38;5;28;01mif\u001b[39;00m \u001b[38;5;124m\"\u001b[39m\u001b[38;5;124mb\u001b[39m\u001b[38;5;124m\"\u001b[39m \u001b[38;5;129;01mnot\u001b[39;00m \u001b[38;5;129;01min\u001b[39;00m mode:\n\u001b[0;32m   1879\u001b[0m         mode \u001b[38;5;241m+\u001b[39m\u001b[38;5;241m=\u001b[39m \u001b[38;5;124m\"\u001b[39m\u001b[38;5;124mb\u001b[39m\u001b[38;5;124m\"\u001b[39m\n\u001b[1;32m-> 1880\u001b[0m \u001b[38;5;28mself\u001b[39m\u001b[38;5;241m.\u001b[39mhandles \u001b[38;5;241m=\u001b[39m \u001b[43mget_handle\u001b[49m\u001b[43m(\u001b[49m\n\u001b[0;32m   1881\u001b[0m \u001b[43m    \u001b[49m\u001b[43mf\u001b[49m\u001b[43m,\u001b[49m\n\u001b[0;32m   1882\u001b[0m \u001b[43m    \u001b[49m\u001b[43mmode\u001b[49m\u001b[43m,\u001b[49m\n\u001b[0;32m   1883\u001b[0m \u001b[43m    \u001b[49m\u001b[43mencoding\u001b[49m\u001b[38;5;241;43m=\u001b[39;49m\u001b[38;5;28;43mself\u001b[39;49m\u001b[38;5;241;43m.\u001b[39;49m\u001b[43moptions\u001b[49m\u001b[38;5;241;43m.\u001b[39;49m\u001b[43mget\u001b[49m\u001b[43m(\u001b[49m\u001b[38;5;124;43m\"\u001b[39;49m\u001b[38;5;124;43mencoding\u001b[39;49m\u001b[38;5;124;43m\"\u001b[39;49m\u001b[43m,\u001b[49m\u001b[43m \u001b[49m\u001b[38;5;28;43;01mNone\u001b[39;49;00m\u001b[43m)\u001b[49m\u001b[43m,\u001b[49m\n\u001b[0;32m   1884\u001b[0m \u001b[43m    \u001b[49m\u001b[43mcompression\u001b[49m\u001b[38;5;241;43m=\u001b[39;49m\u001b[38;5;28;43mself\u001b[39;49m\u001b[38;5;241;43m.\u001b[39;49m\u001b[43moptions\u001b[49m\u001b[38;5;241;43m.\u001b[39;49m\u001b[43mget\u001b[49m\u001b[43m(\u001b[49m\u001b[38;5;124;43m\"\u001b[39;49m\u001b[38;5;124;43mcompression\u001b[39;49m\u001b[38;5;124;43m\"\u001b[39;49m\u001b[43m,\u001b[49m\u001b[43m \u001b[49m\u001b[38;5;28;43;01mNone\u001b[39;49;00m\u001b[43m)\u001b[49m\u001b[43m,\u001b[49m\n\u001b[0;32m   1885\u001b[0m \u001b[43m    \u001b[49m\u001b[43mmemory_map\u001b[49m\u001b[38;5;241;43m=\u001b[39;49m\u001b[38;5;28;43mself\u001b[39;49m\u001b[38;5;241;43m.\u001b[39;49m\u001b[43moptions\u001b[49m\u001b[38;5;241;43m.\u001b[39;49m\u001b[43mget\u001b[49m\u001b[43m(\u001b[49m\u001b[38;5;124;43m\"\u001b[39;49m\u001b[38;5;124;43mmemory_map\u001b[39;49m\u001b[38;5;124;43m\"\u001b[39;49m\u001b[43m,\u001b[49m\u001b[43m \u001b[49m\u001b[38;5;28;43;01mFalse\u001b[39;49;00m\u001b[43m)\u001b[49m\u001b[43m,\u001b[49m\n\u001b[0;32m   1886\u001b[0m \u001b[43m    \u001b[49m\u001b[43mis_text\u001b[49m\u001b[38;5;241;43m=\u001b[39;49m\u001b[43mis_text\u001b[49m\u001b[43m,\u001b[49m\n\u001b[0;32m   1887\u001b[0m \u001b[43m    \u001b[49m\u001b[43merrors\u001b[49m\u001b[38;5;241;43m=\u001b[39;49m\u001b[38;5;28;43mself\u001b[39;49m\u001b[38;5;241;43m.\u001b[39;49m\u001b[43moptions\u001b[49m\u001b[38;5;241;43m.\u001b[39;49m\u001b[43mget\u001b[49m\u001b[43m(\u001b[49m\u001b[38;5;124;43m\"\u001b[39;49m\u001b[38;5;124;43mencoding_errors\u001b[39;49m\u001b[38;5;124;43m\"\u001b[39;49m\u001b[43m,\u001b[49m\u001b[43m \u001b[49m\u001b[38;5;124;43m\"\u001b[39;49m\u001b[38;5;124;43mstrict\u001b[39;49m\u001b[38;5;124;43m\"\u001b[39;49m\u001b[43m)\u001b[49m\u001b[43m,\u001b[49m\n\u001b[0;32m   1888\u001b[0m \u001b[43m    \u001b[49m\u001b[43mstorage_options\u001b[49m\u001b[38;5;241;43m=\u001b[39;49m\u001b[38;5;28;43mself\u001b[39;49m\u001b[38;5;241;43m.\u001b[39;49m\u001b[43moptions\u001b[49m\u001b[38;5;241;43m.\u001b[39;49m\u001b[43mget\u001b[49m\u001b[43m(\u001b[49m\u001b[38;5;124;43m\"\u001b[39;49m\u001b[38;5;124;43mstorage_options\u001b[39;49m\u001b[38;5;124;43m\"\u001b[39;49m\u001b[43m,\u001b[49m\u001b[43m \u001b[49m\u001b[38;5;28;43;01mNone\u001b[39;49;00m\u001b[43m)\u001b[49m\u001b[43m,\u001b[49m\n\u001b[0;32m   1889\u001b[0m \u001b[43m\u001b[49m\u001b[43m)\u001b[49m\n\u001b[0;32m   1890\u001b[0m \u001b[38;5;28;01massert\u001b[39;00m \u001b[38;5;28mself\u001b[39m\u001b[38;5;241m.\u001b[39mhandles \u001b[38;5;129;01mis\u001b[39;00m \u001b[38;5;129;01mnot\u001b[39;00m \u001b[38;5;28;01mNone\u001b[39;00m\n\u001b[0;32m   1891\u001b[0m f \u001b[38;5;241m=\u001b[39m \u001b[38;5;28mself\u001b[39m\u001b[38;5;241m.\u001b[39mhandles\u001b[38;5;241m.\u001b[39mhandle\n",
      "File \u001b[1;32m~\\Desktop\\ETL\\.venv\\Lib\\site-packages\\pandas\\io\\common.py:873\u001b[0m, in \u001b[0;36mget_handle\u001b[1;34m(path_or_buf, mode, encoding, compression, memory_map, is_text, errors, storage_options)\u001b[0m\n\u001b[0;32m    868\u001b[0m \u001b[38;5;28;01melif\u001b[39;00m \u001b[38;5;28misinstance\u001b[39m(handle, \u001b[38;5;28mstr\u001b[39m):\n\u001b[0;32m    869\u001b[0m     \u001b[38;5;66;03m# Check whether the filename is to be opened in binary mode.\u001b[39;00m\n\u001b[0;32m    870\u001b[0m     \u001b[38;5;66;03m# Binary mode does not support 'encoding' and 'newline'.\u001b[39;00m\n\u001b[0;32m    871\u001b[0m     \u001b[38;5;28;01mif\u001b[39;00m ioargs\u001b[38;5;241m.\u001b[39mencoding \u001b[38;5;129;01mand\u001b[39;00m \u001b[38;5;124m\"\u001b[39m\u001b[38;5;124mb\u001b[39m\u001b[38;5;124m\"\u001b[39m \u001b[38;5;129;01mnot\u001b[39;00m \u001b[38;5;129;01min\u001b[39;00m ioargs\u001b[38;5;241m.\u001b[39mmode:\n\u001b[0;32m    872\u001b[0m         \u001b[38;5;66;03m# Encoding\u001b[39;00m\n\u001b[1;32m--> 873\u001b[0m         handle \u001b[38;5;241m=\u001b[39m \u001b[38;5;28;43mopen\u001b[39;49m\u001b[43m(\u001b[49m\n\u001b[0;32m    874\u001b[0m \u001b[43m            \u001b[49m\u001b[43mhandle\u001b[49m\u001b[43m,\u001b[49m\n\u001b[0;32m    875\u001b[0m \u001b[43m            \u001b[49m\u001b[43mioargs\u001b[49m\u001b[38;5;241;43m.\u001b[39;49m\u001b[43mmode\u001b[49m\u001b[43m,\u001b[49m\n\u001b[0;32m    876\u001b[0m \u001b[43m            \u001b[49m\u001b[43mencoding\u001b[49m\u001b[38;5;241;43m=\u001b[39;49m\u001b[43mioargs\u001b[49m\u001b[38;5;241;43m.\u001b[39;49m\u001b[43mencoding\u001b[49m\u001b[43m,\u001b[49m\n\u001b[0;32m    877\u001b[0m \u001b[43m            \u001b[49m\u001b[43merrors\u001b[49m\u001b[38;5;241;43m=\u001b[39;49m\u001b[43merrors\u001b[49m\u001b[43m,\u001b[49m\n\u001b[0;32m    878\u001b[0m \u001b[43m            \u001b[49m\u001b[43mnewline\u001b[49m\u001b[38;5;241;43m=\u001b[39;49m\u001b[38;5;124;43m\"\u001b[39;49m\u001b[38;5;124;43m\"\u001b[39;49m\u001b[43m,\u001b[49m\n\u001b[0;32m    879\u001b[0m \u001b[43m        \u001b[49m\u001b[43m)\u001b[49m\n\u001b[0;32m    880\u001b[0m     \u001b[38;5;28;01melse\u001b[39;00m:\n\u001b[0;32m    881\u001b[0m         \u001b[38;5;66;03m# Binary mode\u001b[39;00m\n\u001b[0;32m    882\u001b[0m         handle \u001b[38;5;241m=\u001b[39m \u001b[38;5;28mopen\u001b[39m(handle, ioargs\u001b[38;5;241m.\u001b[39mmode)\n",
      "\u001b[1;31mFileNotFoundError\u001b[0m: [Errno 2] No such file or directory: 'tips.csv'"
     ]
    }
   ],
   "source": [
    "df = pd.read_csv('tips.csv')\n",
    "\n",
    "y = df['total_bill']\n",
    "\n",
    "X = df.drop('total_bill', axis=1)\n",
    "\n",
    "traitement.fit(X, y)"
   ]
  },
  {
   "cell_type": "markdown",
   "metadata": {},
   "source": [
    "---"
   ]
  },
  {
   "cell_type": "markdown",
   "metadata": {},
   "source": [
    "# Data viz avec plotly "
   ]
  },
  {
   "cell_type": "markdown",
   "metadata": {},
   "source": [
    "---"
   ]
  },
  {
   "cell_type": "markdown",
   "metadata": {},
   "source": [
    "<div style=\"text-align: center;\">\n",
    "    <img src=\"https://cdn.pixabay.com/photo/2020/02/03/20/49/technology-4816658_1280.jpg\" alt=\"Mon Image\" style=\"width: 1000px; height:400px; auto;\"/>\n",
    "</div>"
   ]
  },
  {
   "cell_type": "code",
   "execution_count": null,
   "metadata": {},
   "outputs": [],
   "source": [
    "# Librairies \n",
    "import pandas as pd\n",
    "import plotly.express as px\n",
    "import plotly.graph_objects as go\n",
    "import numpy as np"
   ]
  },
  {
   "cell_type": "markdown",
   "metadata": {},
   "source": [
    "### Bar plot empilées"
   ]
  },
  {
   "cell_type": "code",
   "execution_count": null,
   "metadata": {},
   "outputs": [],
   "source": [
    "import plotly.graph_objects as go\n",
    "\n",
    "# Données factices (chaque valeur est en pourcentage, donc entre 0 et 100)\n",
    "years = [\"2014\", \"2015\", \"2016\", \"2017\", \"2018\", \"2019\"]\n",
    "seed_angel = [60, 58, 55, 50, 40, 30]\n",
    "series_a = [20, 25, 30, 35, 30, 25]\n",
    "series_b = [10, 8, 7, 6, 5, 10]\n",
    "series_c = [5, 5, 4, 5, 10, 15]\n",
    "series_d = [3, 2, 3, 2, 5, 8]\n",
    "series_e_plus = [1, 1, 1, 2, 5, 8]\n",
    "other = [1, 1, 0, 0, 5, 4]\n",
    "\n",
    "# Création du graphique avec des barres empilées\n",
    "fig = go.Figure()\n",
    "\n",
    "# Ajout des barres pour chaque étape de financement\n",
    "fig.add_trace(go.Bar(name='Seed / Angel', x=years, y=[v/100 for v in seed_angel], marker_color='#4CAFDB'))\n",
    "fig.add_trace(go.Bar(name='Series A', x=years, y=[v/100 for v in series_a], marker_color='#B53FA1'))\n",
    "fig.add_trace(go.Bar(name='Series B', x=years, y=[v/100 for v in series_b], marker_color='#FF5C38'))\n",
    "fig.add_trace(go.Bar(name='Series C', x=years, y=[v/100 for v in series_c], marker_color='#264277'))\n",
    "fig.add_trace(go.Bar(name='Series D', x=years, y=[v/100 for v in series_d], marker_color='#15B399'))\n",
    "fig.add_trace(go.Bar(name='Series E+', x=years, y=[v/100 for v in series_e_plus], marker_color='#F2935A'))\n",
    "fig.add_trace(go.Bar(name='Other', x=years, y=[v/100 for v in other], marker_color='#D3D3D3'))\n",
    "\n",
    "# Paramètres de mise en forme pour le mode sombre\n",
    "fig.update_layout(\n",
    "    barmode='stack',\n",
    "    title=\"Part des transactions par niveau\",\n",
    "    xaxis_title=\"Années\",\n",
    "    yaxis_title=\"Pourcentage\",\n",
    "    yaxis=dict(tickformat=\".0%\", range=[0, 1]),  # Mise à jour de l'axe pour un affichage correct en pourcentage\n",
    "    legend_title=\"Niveau de financement\",\n",
    "    template=\"plotly_dark\",  # Mode sombre\n",
    "    width=700,  # Largeur du graphique\n",
    "    height=500  # Hauteur du graphique\n",
    ")\n",
    "\n",
    "# Affichage du graphique\n",
    "fig.show()"
   ]
  },
  {
   "cell_type": "markdown",
   "metadata": {},
   "source": [
    "### Barplot"
   ]
  },
  {
   "cell_type": "code",
   "execution_count": null,
   "metadata": {},
   "outputs": [],
   "source": [
    "# Données\n",
    "data = pd.DataFrame({\n",
    "    'categorie': ['A', 'B', 'A', 'C', 'B', 'A', 'A', 'B', 'C', 'A', 'B', 'C', 'B', 'A', 'C']\n",
    "})\n",
    "\n",
    "# Calcul de la fréquence et des pourcentages\n",
    "frequences = data['categorie'].value_counts(normalize=True) * 100\n",
    "# On replace les noms des colonnes\n",
    "frequences_df = frequences.reset_index()\n",
    "# On récupère les noms des colonnes\n",
    "frequences_df.columns = ['categorie', 'pourcentage']\n",
    "# Création du graphique en barres\n",
    "fig = px.bar(frequences_df, x='categorie', y='pourcentage', text='pourcentage')\n",
    "# Etiquettes de pourcentage\n",
    "fig.update_traces(texttemplate='%{text:.2f}%', textposition='outside', width=0.5)\n",
    "# Affichage du graphique\n",
    "fig.update_layout(\n",
    "    title=\"Répartition des catégories\",\n",
    "    xaxis_title=\"Catégorie\",\n",
    "    yaxis_title=\"Pourcentage\",\n",
    "    yaxis_tickformat = \",.2f\",\n",
    "    showlegend=False\n",
    ")\n",
    "\n",
    "# Afichage \n",
    "fig.show()\n"
   ]
  },
  {
   "cell_type": "code",
   "execution_count": null,
   "metadata": {},
   "outputs": [],
   "source": [
    "# Données\n",
    "data = pd.DataFrame({\n",
    "    'annee': ['2017', '2018', '2019', '2020', '2021', '2022'],\n",
    "    'PIB': [2500, 2650, 2800, 2900, 3050, 3200] \n",
    "})\n",
    "\n",
    "# Graphique en barres \n",
    "fig = px.bar(data, x='annee', y='PIB', text='PIB', color_discrete_sequence=['#003DA5'])\n",
    "\n",
    "# Personnalisation des étiquettes\n",
    "fig.update_traces(\n",
    "    texttemplate='%{text:.0f} M$',  # Format des étiquettes en millions de dollars\n",
    "    textposition='outside',  # Position au milieu des barres\n",
    "    textfont=dict(color=\"black\"),  # Couleur blanche pour les étiquettes\n",
    "    width=0.6\n",
    ")\n",
    "\n",
    "\n",
    "\n",
    "\n",
    "# Configuration du layout pour le graphique\n",
    "fig.update_layout(\n",
    "    title=\"Évolution du PIB en millions de dollars (2017-2022)\",\n",
    "    xaxis_title=\"Année\",\n",
    "    yaxis_title=\"PIB (millions de dollars)\",\n",
    "    yaxis_tickformat=\",.0f\", \n",
    "    showlegend=False\n",
    ")\n",
    "\n",
    "fig.show()"
   ]
  },
  {
   "cell_type": "markdown",
   "metadata": {},
   "source": [
    "### Graphes avec deux axes"
   ]
  },
  {
   "cell_type": "code",
   "execution_count": null,
   "metadata": {},
   "outputs": [],
   "source": [
    "# Données (précipitations, températures minimales et maximales pour chaque mois)\n",
    "months = [\"Jan\", \"Fév\", \"Mar\", \"Avr\", \"Mai\", \"Juin\", \"Juil\", \"Août\", \"Sept\", \"Oct\", \"Nov\", \"Déc\"]\n",
    "precipitation = [110, 100, 90, 75, 60, 50, 50, 60, 70, 90, 100, 120]  # en mm\n",
    "temp_min = [20, 18, 16, 14, 11, 8, 7, 9, 12, 15, 18, 20]  # en °C\n",
    "temp_max = [30, 28, 26, 23, 20, 18, 17, 20, 23, 26, 28, 30]  # en °C\n",
    "\n",
    "# Création du graphique à barres pour les précipitations\n",
    "fig = go.Figure()\n",
    "\n",
    "fig.add_trace(go.Bar(\n",
    "    x=months,\n",
    "    y=precipitation,\n",
    "    name=\"Précipitations\",\n",
    "    marker_color=\"green\",\n",
    "    yaxis=\"y2\"  # On associe  l'axe des ordonnées secondaire pour les précipitations\n",
    "))\n",
    "\n",
    "# Ajout de la courbe des températures minimales\n",
    "fig.add_trace(go.Scatter(\n",
    "    x=months,\n",
    "    y=temp_min,\n",
    "    name=\"Température Min\",\n",
    "    mode=\"lines+markers\",\n",
    "    marker_color=\"blue\",\n",
    "    line=dict(width=2)\n",
    "))\n",
    "\n",
    "# Courbe pour des températures maximales\n",
    "fig.add_trace(go.Scatter(\n",
    "    x=months,\n",
    "    y=temp_max,\n",
    "    name=\"Température Max\",\n",
    "    mode=\"lines+markers\",\n",
    "    marker_color=\"red\",\n",
    "    line=dict(width=2)\n",
    "))\n",
    "\n",
    "# Mise en forme \n",
    "fig.update_layout(\n",
    "    title=\"Graphique climatique\",\n",
    "    xaxis=dict(title=\"Mois\"),\n",
    "    yaxis=dict(\n",
    "        title=\"Température (°C)\",\n",
    "        range=[0, 35]\n",
    "    ),\n",
    "    yaxis2=dict(\n",
    "        title=\"Précipitations (mm)\",\n",
    "        range=[0, 175],\n",
    "        overlaying=\"y\",\n",
    "        side=\"right\"  # Positionne cet axe à droite\n",
    "    ),\n",
    "    legend=dict(x=0.1, y=1.1),\n",
    "    template=\"plotly_white\"\n",
    ")\n",
    "\n",
    "# Affichage\n",
    "fig.show()"
   ]
  },
  {
   "cell_type": "markdown",
   "metadata": {},
   "source": [
    "### Graphe à barres empilées vertical"
   ]
  },
  {
   "cell_type": "code",
   "execution_count": null,
   "metadata": {},
   "outputs": [],
   "source": [
    "# Données fictives\n",
    "data = pd.DataFrame({\n",
    "    'Niveau d\\'instruction': ['Primaire', 'Primaire', 'Secondaire', 'Secondaire', 'Supérieur', 'Supérieur'],\n",
    "    'Situation matrimoniale': ['Célibataire', 'Marié', 'Célibataire', 'Marié', 'Célibataire', 'Marié'],\n",
    "    'Nombre': [10, 20, 15, 25, 30, 10]\n",
    "})\n",
    "\n",
    "# Calcule des pourcentages\n",
    "data['Pourcentage'] = (data['Nombre'] / data.groupby('Niveau d\\'instruction')['Nombre'].transform('sum') * 100).round(2)\n",
    "\n",
    "# Création du graphique à barres empilées\n",
    "fig = px.bar(data,\n",
    "             x='Niveau d\\'instruction',\n",
    "             y='Pourcentage',\n",
    "             color='Situation matrimoniale',\n",
    "             text='Pourcentage',         # Pourcentages sur les barres\n",
    "             title='Niveau d\\'Instruction et Situation Matrimoniale',\n",
    "             labels={'Pourcentage': 'Pourcentage (%)'},\n",
    "             color_discrete_sequence=['#4CAF50', '#2196F3'])  # Couleurs\n",
    "\n",
    "# Personnalisation\n",
    "fig.update_traces(\n",
    "    texttemplate='%{text:.2f}%',         # Format des étiquettes\n",
    "    textposition='inside',               # Pourcentages à l'intérieur des barres\n",
    "    textfont_color='white',              # Couleur des pourcentages\n",
    "    width=0.4                            # Largeur des barres réduite\n",
    ")\n",
    "\n",
    "# Configuration du layout pour le graphique\n",
    "fig.update_layout(\n",
    "    yaxis_title='Pourcentage (%)',\n",
    "    xaxis_title='Niveau d\\'instruction',\n",
    "    barmode='stack',                     # pour empiler\n",
    "    template='plotly_white',\n",
    "    yaxis=dict(gridcolor='LightGray'),   # Couleur de la grille\n",
    "    xaxis=dict(gridcolor='LightGray')    # Couleur de la grille\n",
    ")\n",
    "\n",
    "# Affichage\n",
    "fig.show()\n"
   ]
  },
  {
   "cell_type": "markdown",
   "metadata": {},
   "source": [
    "### Graphe à barres groupées"
   ]
  },
  {
   "cell_type": "code",
   "execution_count": null,
   "metadata": {},
   "outputs": [],
   "source": [
    "# Données\n",
    "data = pd.DataFrame({\n",
    "    'Niveau d\\'instruction': ['Primaire', 'Primaire', 'Secondaire', 'Secondaire', 'Supérieur', 'Supérieur'],\n",
    "    'Situation matrimoniale': ['Célibataire', 'Marié', 'Célibataire', 'Marié', 'Célibataire', 'Marié'],\n",
    "    'Nombre': [10, 20, 15, 25, 30, 10]\n",
    "})\n",
    "\n",
    "# Calculer des pourcentages \n",
    "data['Pourcentage'] = (data['Nombre'] / data.groupby('Niveau d\\'instruction')['Nombre'].transform('sum') * 100).round(2)\n",
    "\n",
    "# Graphique à barres groupées\n",
    "fig = px.bar(data,\n",
    "             x='Niveau d\\'instruction',\n",
    "             y='Pourcentage',\n",
    "             color='Situation matrimoniale',\n",
    "             text='Pourcentage',     \n",
    "             title='Niveau d\\'Instruction et Situation Matrimoniale',\n",
    "             labels={'Pourcentage': 'Pourcentage (%)'},\n",
    "             color_discrete_sequence=px.colors.qualitative.Set2)\n",
    "\n",
    "# Personnalisation\n",
    "fig.update_traces(\n",
    "    texttemplate='%{text:.2f}%',     # Format des étiquettes en pourcentage avec deux chiffres après la virgule\n",
    "    textposition='outside',           # Pourcentages à l'extérieur des barres\n",
    "    width=0.4 \n",
    ")\n",
    "\n",
    "\n",
    "# Ici tu peux aussi configurer la taille du graphique\n",
    "fig.update_layout(\n",
    "    yaxis_title='Pourcentage (%)',\n",
    "    xaxis_title='Niveau d\\'instruction',\n",
    "    barmode='group',  # Utilisation du mode groupé\n",
    "    template='plotly_white'\n",
    ")\n",
    "\n",
    "# Affichage \n",
    "fig.show()"
   ]
  },
  {
   "cell_type": "markdown",
   "metadata": {},
   "source": [
    "### Graphe à barres empilées horizontal"
   ]
  },
  {
   "cell_type": "code",
   "execution_count": null,
   "metadata": {},
   "outputs": [],
   "source": [
    "# Données \n",
    "data = pd.DataFrame({\n",
    "    'Niveau d\\'instruction': ['Primaire', 'Primaire', 'Secondaire', 'Secondaire', 'Supérieur', 'Supérieur', 'Doctorat', 'Doctorat'],\n",
    "    'Situation matrimoniale': ['Célibataire', 'Marié', 'Célibataire', 'Marié', 'Célibataire', 'Marié', 'Célibataire', 'Marié'],\n",
    "    'Nombre': [10, 20, 15, 25, 30, 10, 5, 5]\n",
    "})\n",
    "\n",
    "# Calcule des pourcentages\n",
    "data['Pourcentage'] = (data['Nombre'] / data.groupby('Niveau d\\'instruction')['Nombre'].transform('sum') * 100).round(2)\n",
    "\n",
    "# Graphique à barres empilées horizontal\n",
    "fig = px.bar(data,\n",
    "             y='Niveau d\\'instruction',\n",
    "             x='Pourcentage',\n",
    "             color='Situation matrimoniale',\n",
    "             text='Pourcentage',  # Afficher les pourcentages sur les barres\n",
    "             title='Répartition en Pourcentage par Niveau d\\'Instruction et Situation Matrimoniale',\n",
    "             labels={'Pourcentage': 'Pourcentage (%)'},\n",
    "             color_discrete_sequence=['purple', '#2196F3'],  # Couleurs personnalisées : rose et bleu\n",
    "             orientation='h')  # Orientation horizontale\n",
    "\n",
    "# Personnalisation des étiquettes\n",
    "fig.update_traces(\n",
    "    texttemplate='%{text:.2f}%',  # Format des étiquettes en pourcentage\n",
    "    textposition='inside',        # Pourcentages à l'intérieur des barres\n",
    "    textfont_color='white'        # Couleur des pourcentages en blanc\n",
    ")\n",
    "\n",
    "# Configuration du layout\n",
    "fig.update_layout(\n",
    "    xaxis_title='Pourcentage (%)',\n",
    "    yaxis_title='Niveau d\\'instruction',\n",
    "    barmode='stack',              # Utilisation du mode empilé\n",
    "    template='plotly_white'\n",
    ")\n",
    "\n",
    "# Affichage\n",
    "fig.show()\n",
    "\n"
   ]
  },
  {
   "cell_type": "markdown",
   "metadata": {},
   "source": [
    "### Histogramme"
   ]
  },
  {
   "cell_type": "code",
   "execution_count": null,
   "metadata": {},
   "outputs": [],
   "source": [
    "# Revenus (en milliers de dollars)\n",
    "np.random.seed(42)\n",
    "data = pd.DataFrame({\n",
    "    'revenu': np.random.normal(50, 15, 1000)       # Moyenne de 50k, écart-type de 15k\n",
    "})\n",
    "\n",
    "# Création de l'histogramme\n",
    "fig = px.histogram(data, x='revenu', nbins=30,     # nombre de barres\n",
    "                   title=\"Distribution des revenus\",\n",
    "                   labels={'revenu': \"Revenu (en milliers de dollars)\"})\n",
    "\n",
    "# Personnalisation de l'histogramme\n",
    "fig.update_layout(\n",
    "    xaxis_title=\"Revenu (en milliers de dollars)\",\n",
    "    yaxis_title=\"Fréquence\",\n",
    "    bargap=0.1,                                     # Espace entre les barres\n",
    "    template=\"plotly_white\"                         # Fond blanc\n",
    ")\n",
    "\n",
    "# Affichage\n",
    "fig.show()\n"
   ]
  },
  {
   "cell_type": "markdown",
   "metadata": {},
   "source": [
    "### Box-plot"
   ]
  },
  {
   "cell_type": "code",
   "execution_count": null,
   "metadata": {},
   "outputs": [],
   "source": [
    "# Données\n",
    "np.random.seed(42)\n",
    "data = pd.DataFrame({\n",
    "    'revenu': np.random.normal(50, 15, 1000)  # Moyenne de 50k, écart-type de 15k\n",
    "})\n",
    "\n",
    "# Box-plot\n",
    "fig = px.box(data, y='revenu', \n",
    "              title=\"Box-plot des revenus individuels\",\n",
    "              labels={'revenu': \"Revenu (en milliers de dollars)\"})\n",
    "\n",
    "# Personnalisation \n",
    "fig.update_layout(\n",
    "    yaxis_title=\"Revenu (en milliers de dollars)\",\n",
    "    template=\"plotly_white\"\n",
    ")\n",
    "\n",
    "# Affichage\n",
    "fig.show()"
   ]
  },
  {
   "cell_type": "code",
   "execution_count": null,
   "metadata": {},
   "outputs": [],
   "source": [
    "# Données\n",
    "np.random.seed(42)  # Pour la reproductibilité\n",
    "n_observations = 50\n",
    "\n",
    "# Classes du collège au lycée\n",
    "classes = ['6ème', '5ème', '4ème', '3ème', 'Seconde', 'Première', 'Terminale']\n",
    "\n",
    "# DataFrame \n",
    "data = pd.DataFrame({\n",
    "    'Classe': np.random.choice(classes, n_observations),\n",
    "    'Âge': np.random.randint(11, 19, n_observations)  # Âges entre 11 et 18\n",
    "})\n",
    "\n",
    "# Création du box plot\n",
    "fig = px.box(data,\n",
    "             x='Classe',\n",
    "             y='Âge',\n",
    "             title='Âges et Classes des élèves',\n",
    "             labels={'Âge': 'Âge (années)', 'Classe': 'Classe'},\n",
    "             color='Classe',  # Coloration par classe\n",
    "             template='plotly_white')  # Utilisation d'un template blanc\n",
    "\n",
    "# Configuration du layout\n",
    "fig.update_layout(\n",
    "    yaxis_title='Âge (années)',\n",
    "    xaxis_title='Classe'\n",
    ")\n",
    "\n",
    "# Affichage\n",
    "fig.show()"
   ]
  },
  {
   "cell_type": "markdown",
   "metadata": {},
   "source": [
    "### Nuage de points"
   ]
  },
  {
   "cell_type": "code",
   "execution_count": null,
   "metadata": {},
   "outputs": [],
   "source": [
    "# Données\n",
    "np.random.seed(42)  # Pour la reproductibilité\n",
    "data = pd.DataFrame({\n",
    "    'Age': np.random.randint(20, 60, size=50),  # Âge entre 20 et 60 ans\n",
    "    'Revenu': np.random.randint(20000, 100000, size=50),  # Revenu entre 20 000 et 100 000\n",
    "    'Situation matrimoniale': np.random.choice(['Célibataire', 'Marié', 'Divorcé'], size=50)  # Situation matrimoniale\n",
    "})\n",
    "\n",
    "# Création du nuage de points\n",
    "fig = px.scatter(data, \n",
    "                 x='Age', \n",
    "                 y='Revenu', \n",
    "                 color='Situation matrimoniale',  # Couleur en fonction de la situation matrimoniale\n",
    "                 size='Revenu',                   # Taille des points proportionnelle au revenu\n",
    "                 hover_name=data.index,           # Pour Afficher l'index dans les info-bulles\n",
    "                 title='Revenu en fonction de l\\'Âge',\n",
    "                 labels={'Age': 'Âge (ans)', 'Revenu': 'Revenu (en milliers de dollars)'},\n",
    "                 template='plotly_white')\n",
    "\n",
    "# Affichage \n",
    "fig.show()"
   ]
  },
  {
   "cell_type": "markdown",
   "metadata": {},
   "source": [
    "**Julien Bidias Assala**\n",
    "<br>\n",
    "*Ingénieur Statisticien économiste*\n",
    "<br>\n",
    "**Contacts :**\n",
    "<br>\n",
    "<a href=\"https://www.linkedin.com/in/julien-bidias-a57b941b7/\"> LinkedIn</a>\n",
    "<br>\n",
    "<a href=\"https://github.com/JulienBIDIAS\"> GitHub</a>\n",
    "<br>\n",
    "<a href=\"mailto:julienbidias246@gmail.com\"> Gmail</a>"
   ]
  }
 ],
 "metadata": {
  "kernelspec": {
   "display_name": "Python 3",
   "language": "python",
   "name": "python3"
  },
  "language_info": {
   "codemirror_mode": {
    "name": "ipython",
    "version": 3
   },
   "file_extension": ".py",
   "mimetype": "text/x-python",
   "name": "python",
   "nbconvert_exporter": "python",
   "pygments_lexer": "ipython3",
   "version": "3.12.6"
  }
 },
 "nbformat": 4,
 "nbformat_minor": 2
}